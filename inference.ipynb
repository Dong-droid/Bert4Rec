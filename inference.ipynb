{
 "cells": [
  {
   "cell_type": "code",
   "execution_count": 1,
   "metadata": {},
   "outputs": [
    {
     "name": "stderr",
     "output_type": "stream",
     "text": [
      "/tmp/ipykernel_305635/3837418256.py:1: DeprecationWarning: \n",
      "Pyarrow will become a required dependency of pandas in the next major release of pandas (pandas 3.0),\n",
      "(to allow more performant data types, such as the Arrow string type, and better interoperability with other libraries)\n",
      "but was not found to be installed on your system.\n",
      "If this would cause problems for you,\n",
      "please provide us feedback at https://github.com/pandas-dev/pandas/issues/54466\n",
      "        \n",
      "  import pandas as pd\n"
     ]
    }
   ],
   "source": [
    "import pandas as pd\n",
    "import numpy as np\n",
    "from sklearn.cluster import KMeans\n",
    "from sklearn.decomposition import PCA\n",
    "from sklearn.preprocessing import StandardScaler\n",
    "import matplotlib.pyplot as plt\n",
    "import seaborn as sns\n"
   ]
  },
  {
   "cell_type": "code",
   "execution_count": 2,
   "metadata": {},
   "outputs": [],
   "source": [
    "import torch\n",
    "import pandas as pd\n",
    "from options import args\n",
    "from models import model_factory\n",
    "from dataloaders import dataloader_factory, loader_submission\n",
    "from trainers import trainer_factory\n",
    "from utils import *"
   ]
  },
  {
   "cell_type": "code",
   "execution_count": 4,
   "metadata": {},
   "outputs": [
    {
     "name": "stdout",
     "output_type": "stream",
     "text": [
      "Already preprocessed. Skip preprocessing\n",
      "Negative samples don't exist. Generating.\n"
     ]
    },
    {
     "ename": "AssertionError",
     "evalue": "Specify seed for random sampling",
     "output_type": "error",
     "traceback": [
      "\u001b[0;31m---------------------------------------------------------------------------\u001b[0m",
      "\u001b[0;31mAssertionError\u001b[0m                            Traceback (most recent call last)",
      "Cell \u001b[0;32mIn[4], line 1\u001b[0m\n\u001b[0;32m----> 1\u001b[0m sub, a, b, c \u001b[38;5;241m=\u001b[39m \u001b[43mloader_submission\u001b[49m\u001b[43m(\u001b[49m\u001b[43margs\u001b[49m\u001b[43m)\u001b[49m\n",
      "File \u001b[0;32m/data/ephemeral/ml/input/code/HQ/dataloaders/__init__.py:22\u001b[0m, in \u001b[0;36mloader_submission\u001b[0;34m(args)\u001b[0m\n\u001b[1;32m     20\u001b[0m dataset \u001b[38;5;241m=\u001b[39m dataset_factory(args)\n\u001b[1;32m     21\u001b[0m dataloader \u001b[38;5;241m=\u001b[39m DATALOADERS[args\u001b[38;5;241m.\u001b[39mdataloader_code]\n\u001b[0;32m---> 22\u001b[0m dataloader \u001b[38;5;241m=\u001b[39m \u001b[43mdataloader\u001b[49m\u001b[43m(\u001b[49m\u001b[43margs\u001b[49m\u001b[43m,\u001b[49m\u001b[43m \u001b[49m\u001b[43mdataset\u001b[49m\u001b[43m)\u001b[49m\n\u001b[1;32m     23\u001b[0m inv_umap, inv_smap \u001b[38;5;241m=\u001b[39m dataloader\u001b[38;5;241m.\u001b[39mget_umap_smap()\n\u001b[1;32m     24\u001b[0m user_lst \u001b[38;5;241m=\u001b[39m dataloader\u001b[38;5;241m.\u001b[39mget_user_lst()\n",
      "File \u001b[0;32m/data/ephemeral/ml/input/code/HQ/dataloaders/bert.py:29\u001b[0m, in \u001b[0;36mBertDataloader.__init__\u001b[0;34m(self, args, dataset)\u001b[0m\n\u001b[1;32m     22\u001b[0m code \u001b[38;5;241m=\u001b[39m args\u001b[38;5;241m.\u001b[39mtest_negative_sampler_code\n\u001b[1;32m     23\u001b[0m test_negative_sampler \u001b[38;5;241m=\u001b[39m negative_sampler_factory(code, \u001b[38;5;28mself\u001b[39m\u001b[38;5;241m.\u001b[39mtrain, \u001b[38;5;28mself\u001b[39m\u001b[38;5;241m.\u001b[39mval, \u001b[38;5;28mself\u001b[39m\u001b[38;5;241m.\u001b[39mtest,\n\u001b[1;32m     24\u001b[0m                                                  \u001b[38;5;28mself\u001b[39m\u001b[38;5;241m.\u001b[39muser_count, \u001b[38;5;28mself\u001b[39m\u001b[38;5;241m.\u001b[39mitem_count,\n\u001b[1;32m     25\u001b[0m                                                  args\u001b[38;5;241m.\u001b[39mtest_negative_sample_size,\n\u001b[1;32m     26\u001b[0m                                                  args\u001b[38;5;241m.\u001b[39mtest_negative_sampling_seed,\n\u001b[1;32m     27\u001b[0m                                                  \u001b[38;5;28mself\u001b[39m\u001b[38;5;241m.\u001b[39msave_folder)\n\u001b[0;32m---> 29\u001b[0m \u001b[38;5;28mself\u001b[39m\u001b[38;5;241m.\u001b[39mtrain_negative_samples \u001b[38;5;241m=\u001b[39m \u001b[43mtrain_negative_sampler\u001b[49m\u001b[38;5;241;43m.\u001b[39;49m\u001b[43mget_negative_samples\u001b[49m\u001b[43m(\u001b[49m\u001b[43m)\u001b[49m\n\u001b[1;32m     30\u001b[0m \u001b[38;5;28mself\u001b[39m\u001b[38;5;241m.\u001b[39mtest_negative_samples \u001b[38;5;241m=\u001b[39m test_negative_sampler\u001b[38;5;241m.\u001b[39mget_negative_samples()\n",
      "File \u001b[0;32m/data/ephemeral/ml/input/code/HQ/dataloaders/negative_samplers/base.py:33\u001b[0m, in \u001b[0;36mAbstractNegativeSampler.get_negative_samples\u001b[0;34m(self)\u001b[0m\n\u001b[1;32m     31\u001b[0m     \u001b[38;5;28;01mreturn\u001b[39;00m negative_samples\n\u001b[1;32m     32\u001b[0m \u001b[38;5;28mprint\u001b[39m(\u001b[38;5;124m\"\u001b[39m\u001b[38;5;124mNegative samples don\u001b[39m\u001b[38;5;124m'\u001b[39m\u001b[38;5;124mt exist. Generating.\u001b[39m\u001b[38;5;124m\"\u001b[39m)\n\u001b[0;32m---> 33\u001b[0m negative_samples \u001b[38;5;241m=\u001b[39m \u001b[38;5;28;43mself\u001b[39;49m\u001b[38;5;241;43m.\u001b[39;49m\u001b[43mgenerate_negative_samples\u001b[49m\u001b[43m(\u001b[49m\u001b[43m)\u001b[49m\n\u001b[1;32m     34\u001b[0m \u001b[38;5;28;01mwith\u001b[39;00m savefile_path\u001b[38;5;241m.\u001b[39mopen(\u001b[38;5;124m'\u001b[39m\u001b[38;5;124mwb\u001b[39m\u001b[38;5;124m'\u001b[39m) \u001b[38;5;28;01mas\u001b[39;00m f:\n\u001b[1;32m     35\u001b[0m     pickle\u001b[38;5;241m.\u001b[39mdump(negative_samples, f)\n",
      "File \u001b[0;32m/data/ephemeral/ml/input/code/HQ/dataloaders/negative_samplers/random.py:14\u001b[0m, in \u001b[0;36mRandomNegativeSampler.generate_negative_samples\u001b[0;34m(self)\u001b[0m\n\u001b[1;32m     13\u001b[0m \u001b[38;5;28;01mdef\u001b[39;00m \u001b[38;5;21mgenerate_negative_samples\u001b[39m(\u001b[38;5;28mself\u001b[39m):\n\u001b[0;32m---> 14\u001b[0m     \u001b[38;5;28;01massert\u001b[39;00m \u001b[38;5;28mself\u001b[39m\u001b[38;5;241m.\u001b[39mseed \u001b[38;5;129;01mis\u001b[39;00m \u001b[38;5;129;01mnot\u001b[39;00m \u001b[38;5;28;01mNone\u001b[39;00m, \u001b[38;5;124m'\u001b[39m\u001b[38;5;124mSpecify seed for random sampling\u001b[39m\u001b[38;5;124m'\u001b[39m\n\u001b[1;32m     15\u001b[0m     np\u001b[38;5;241m.\u001b[39mrandom\u001b[38;5;241m.\u001b[39mseed(\u001b[38;5;28mself\u001b[39m\u001b[38;5;241m.\u001b[39mseed)\n\u001b[1;32m     16\u001b[0m     negative_samples \u001b[38;5;241m=\u001b[39m {}\n",
      "\u001b[0;31mAssertionError\u001b[0m: Specify seed for random sampling"
     ]
    }
   ],
   "source": [
    "sub, a, b, c = loader_submission(args)"
   ]
  }
 ],
 "metadata": {
  "kernelspec": {
   "display_name": "ml",
   "language": "python",
   "name": "python3"
  },
  "language_info": {
   "codemirror_mode": {
    "name": "ipython",
    "version": 3
   },
   "file_extension": ".py",
   "mimetype": "text/x-python",
   "name": "python",
   "nbconvert_exporter": "python",
   "pygments_lexer": "ipython3",
   "version": "3.10.13"
  }
 },
 "nbformat": 4,
 "nbformat_minor": 2
}
